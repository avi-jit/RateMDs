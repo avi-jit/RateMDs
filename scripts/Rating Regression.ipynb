{
 "cells": [
  {
   "cell_type": "markdown",
   "metadata": {},
   "source": [
    "### Read grouped data"
   ]
  },
  {
   "cell_type": "code",
   "execution_count": null,
   "metadata": {},
   "outputs": [],
   "source": [
    "import pickle\n",
    "import pandas\n",
    "with open('grouped.pickle','rb') as h:\n",
    "    df = pickle.load(h)\n",
    "d = []\n",
    "import ast\n",
    "for i in range(len(df)):\n",
    "    entry = df.iloc[i]\n",
    "    scores = ast.literal_eval(entry['scores'])\n",
    "    processed_entry = [entry['doc_name'],entry['specialty'],entry['gender'],scores]\n",
    "    d.append(processed_entry)\n",
    "d[1200]\n",
    "len(d)"
   ]
  },
  {
   "cell_type": "code",
   "execution_count": null,
   "metadata": {},
   "outputs": [],
   "source": [
    "f = {}\n",
    "for r in d:\n",
    "    try:\n",
    "        f[r[1]]+=1\n",
    "    except:\n",
    "        f[r[1]] = 1\n",
    "#f\n",
    "\n",
    "import operator\n",
    "sorted_f = sorted(f.items(), key=operator.itemgetter(1),reverse=True)\n",
    "#print(sorted_f)\n",
    "\n",
    "threshold = 190\n",
    "allowed = [] # list of allowed specialties, which have frequency above threshold\n",
    "for i in sorted_f:\n",
    "    if i[1] >= threshold:\n",
    "        allowed.append(i[0])\n",
    "    else:\n",
    "        break\n",
    "print(allowed)\n",
    "print(len(allowed))\n",
    "mapping = {}\n",
    "for i,s in enumerate(allowed):\n",
    "    mapping[s] = i\n",
    "map_g = {'m':0,'f':1}"
   ]
  },
  {
   "cell_type": "markdown",
   "metadata": {},
   "source": [
    "### Removing category '-1'"
   ]
  },
  {
   "cell_type": "code",
   "execution_count": null,
   "metadata": {},
   "outputs": [],
   "source": [
    "for i in range(len(d)-1,-1,-1):\n",
    "    if(d[i][1] not in allowed):\n",
    "        #print(i)\n",
    "        try:\n",
    "            del d[i]\n",
    "        except:\n",
    "            print(i)\n",
    "len(d)"
   ]
  },
  {
   "cell_type": "code",
   "execution_count": null,
   "metadata": {},
   "outputs": [],
   "source": [
    "x,y = [],[[],[],[],[]]\n",
    "for r in d:\n",
    "    temp = [0]*len(allowed)\n",
    "    temp[ mapping[r[1]] ] = 1\n",
    "    temp.append(map_g[r[2]])\n",
    "    #temp.append(1)\n",
    "    x.append(temp)\n",
    "    for i in [0,1,2,3]:\n",
    "        y[i].append(r[3][i])\n",
    "#print(len(x[0]))\n",
    "#print(len(x),len(y),len(y[0]))\n",
    "#print(x[200])\n",
    "#print(y[0][100])"
   ]
  },
  {
   "cell_type": "markdown",
   "metadata": {},
   "source": [
    "### Learn coefficients using Regression"
   ]
  },
  {
   "cell_type": "code",
   "execution_count": null,
   "metadata": {},
   "outputs": [],
   "source": [
    "import statsmodels.api as sm"
   ]
  },
  {
   "cell_type": "code",
   "execution_count": null,
   "metadata": {},
   "outputs": [],
   "source": [
    "count = 0\n",
    "x_new = []\n",
    "for i,x1 in enumerate(x):\n",
    "    #type(x1)\n",
    "    #x2 = x1[1:] # remember I'm removing the first one.\n",
    "    # to stay consistent with LR, remove the last one.\n",
    "    # doing effects coding now.\n",
    "    x2 = x1\n",
    "    #if x2[-1] == 1: # THIS IS IF YOU REMOVE LAST ONE. Can't remove this anyway! Last one is gender!\n",
    "    if x2[0] == 1:   # THIS IS IF FIRST ONE. HAVE TO REMOVE '-1' one which happens to be the first one.\n",
    "        for i in range(len(x2)):\n",
    "            x2[i] = -1\n",
    "    else:\n",
    "        count+=1\n",
    "    x2.append(1)\n",
    "    x_new.append(x2[1:]) # because first one is either -1 or 0. That isn't needed. Only k-1 variables needed.\n",
    "#len(x_new[0]) # 14. correct.\n",
    "count\n",
    "#len(x_new)"
   ]
  },
  {
   "cell_type": "code",
   "execution_count": null,
   "metadata": {
    "scrolled": true
   },
   "outputs": [],
   "source": [
    "#X2 = sm.add_constant(X)\n",
    "#print(len(x),len(y))\n",
    "finals = []\n",
    "for i in [0,1,2,3]:\n",
    "    est = sm.OLS(y[i], x_new)\n",
    "    results_fu = est.fit() # unregularized\n",
    "    results_fr = est.fit_regularized(L1_wt=0.0, alpha=0.005, start_params=results_fu.params)\n",
    "    #final = sm.regression.linear_model.OLSResults(est, results_fr.params, est.normalized_cov_params)\n",
    "    final = sm.regression.linear_model.OLSResults(est, results_fu.params, est.normalized_cov_params)\n",
    "    print(final.summary())\n",
    "    finals.append(final)\n",
    "    continue\n",
    "    est2 = est.fit_regularized()\n",
    "    #est2 = est.fit()\n",
    "    print(est2.summary())"
   ]
  }
 ],
 "metadata": {
  "kernelspec": {
   "display_name": "Python 3",
   "language": "python",
   "name": "python3"
  },
  "language_info": {
   "codemirror_mode": {
    "name": "ipython",
    "version": 3
   },
   "file_extension": ".py",
   "mimetype": "text/x-python",
   "name": "python",
   "nbconvert_exporter": "python",
   "pygments_lexer": "ipython3",
   "version": "3.6.5"
  }
 },
 "nbformat": 4,
 "nbformat_minor": 2
}
